{
 "cells": [
  {
   "cell_type": "code",
   "execution_count": 1,
   "id": "c5619a68",
   "metadata": {},
   "outputs": [],
   "source": [
    "import pandas as pd\n",
    "import matplotlib.pyplot as plt\n",
    "import seaborn as sns\n",
    "import numpy as np\n",
    "import altair as alt\n",
    "from altair_saver import save"
   ]
  },
  {
   "cell_type": "code",
   "execution_count": 2,
   "id": "b0dc17bd",
   "metadata": {},
   "outputs": [],
   "source": [
    "#we read the table with the results of the 1st experiment\n",
    "df = pd.read_excel(\"Experimental analysis 1.xlsx\")\n"
   ]
  },
  {
   "cell_type": "code",
   "execution_count": 3,
   "id": "016a6a2e",
   "metadata": {},
   "outputs": [
    {
     "data": {
      "text/plain": [
       "Index(['rute', 'model', 'problem', 'iteration',\n",
       "       'Detecta de que problema se trata?',\n",
       "       'Da un código funcional en python?', 'Explica el código?',\n",
       "       'Utiliza un razonamiento correcto?', 'Da un código recursivo?',\n",
       "       'Hace los pasos que se le pide en la descripción?',\n",
       "       'Hace los pasos que se le pide en la descripción? (Explicación)',\n",
       "       'comentarios de razonamientos incorrectos', 'root_problem'],\n",
       "      dtype='object')"
      ]
     },
     "execution_count": 3,
     "metadata": {},
     "output_type": "execute_result"
    }
   ],
   "source": [
    "conditions = [\n",
    "    df['problem'].str.contains('euclides'),\n",
    "    df['problem'].str.contains('eratostenes'),\n",
    "    df['problem'].str.contains('knapsack')\n",
    "]\n",
    "\n",
    "values = ['Euclid', 'Eratosthenes', 'Knapsack']\n",
    "\n",
    "df.loc[:, 'root_problem'] = np.select(conditions, values, default=\"Binary Search\")\n",
    "df.columns\n",
    "\n"
   ]
  },
  {
   "cell_type": "code",
   "execution_count": 4,
   "id": "97cc98e4",
   "metadata": {},
   "outputs": [],
   "source": [
    "def dataframe_totales(df, columna_agrupar):\n",
    "    df_total = df.groupby(columna_agrupar).size().rename('Total')\n",
    "    df_new = df.groupby(columna_agrupar).sum()\n",
    "    df_new = df_new.join(df_total)\n",
    "    return df_new\n",
    "\n",
    "def dataframe_porcentajes (df, columna_agrupar):\n",
    "    df_total = dataframe_totales(df, columna_agrupar)\n",
    "\n",
    "    for col in df_total.columns[:-1]: \n",
    "        df_total[col] = ((df_total[col] / df_total['Total']) * 100).round(1)\n",
    "    df_total.drop(columns=['Total'], inplace=True)\n",
    "    \n",
    "    return df_total\n",
    "\n",
    "\n"
   ]
  },
  {
   "cell_type": "code",
   "execution_count": 5,
   "id": "cc442ad0",
   "metadata": {},
   "outputs": [
    {
     "name": "stderr",
     "output_type": "stream",
     "text": [
      "C:\\Users\\34649\\AppData\\Local\\Temp\\ipykernel_64504\\1280389070.py:18: SettingWithCopyWarning: \n",
      "A value is trying to be set on a copy of a slice from a DataFrame.\n",
      "Try using .loc[row_indexer,col_indexer] = value instead\n",
      "\n",
      "See the caveats in the documentation: https://pandas.pydata.org/pandas-docs/stable/user_guide/indexing.html#returning-a-view-versus-a-copy\n",
      "  filtered_no_NL_df['problem'] = filtered_no_NL_df['problem'].map(new_problem_names)\n"
     ]
    }
   ],
   "source": [
    "df_select = df.iloc[:,[1, 2,4,5,6,7,8,9,12]]\n",
    "\n",
    "#Consideramos los problemas de los prompts 1 y 2\n",
    "filtered_no_NL_df = df_select[~df_select['problem'].str.contains('_NL')]\n",
    "filtered_NL_df = df_select[df_select['problem'].str.contains('_NL')]\n",
    "\n",
    "new_problem_names = {\n",
    "    'busqueda_binaria': 'Binary Search',\n",
    "    'busqueda_binaria_rec': 'Binary Search Recursive',\n",
    "    'eratostenes': 'Eratosthenes',\n",
    "    'eratostenes_rec': 'Eratosthenes Recursive',\n",
    "    'euclides': 'Euclid',\n",
    "    'euclides_rec': 'Euclid Recursive',\n",
    "    'knapsack': 'Knapsack',\n",
    "    'knapsack_rec': 'Knapsack Recursive',\n",
    "}\n",
    "\n",
    "filtered_no_NL_df['problem'] = filtered_no_NL_df['problem'].map(new_problem_names)\n"
   ]
  },
  {
   "cell_type": "code",
   "execution_count": 6,
   "id": "34efd9e3",
   "metadata": {},
   "outputs": [],
   "source": [
    "# Gives a functional code\n",
    "\n",
    "df_NL_model_resumen_1 = dataframe_porcentajes (filtered_NL_df.iloc[:,[0,3]],'model')\n",
    "df_no_NL_model_resumen_1 =  dataframe_porcentajes (filtered_no_NL_df.iloc[:,[0,3]],'model')\n",
    "\n",
    "# Performs the steps requested in the description\n",
    "\n",
    "\n",
    "df_NL_model_resumen_2 = dataframe_porcentajes (filtered_NL_df.iloc[:,[0,7]],'model')\n",
    "df_no_NL_model_resumen_2 =  dataframe_porcentajes (filtered_no_NL_df.iloc[:,[0,7]],'model')"
   ]
  },
  {
   "cell_type": "code",
   "execution_count": 7,
   "id": "6ffa4128",
   "metadata": {},
   "outputs": [
    {
     "data": {
      "text/html": [
       "<div>\n",
       "<style scoped>\n",
       "    .dataframe tbody tr th:only-of-type {\n",
       "        vertical-align: middle;\n",
       "    }\n",
       "\n",
       "    .dataframe tbody tr th {\n",
       "        vertical-align: top;\n",
       "    }\n",
       "\n",
       "    .dataframe thead th {\n",
       "        text-align: right;\n",
       "    }\n",
       "</style>\n",
       "<table border=\"1\" class=\"dataframe\">\n",
       "  <thead>\n",
       "    <tr style=\"text-align: right;\">\n",
       "      <th></th>\n",
       "      <th>Da un código funcional en python?</th>\n",
       "    </tr>\n",
       "    <tr>\n",
       "      <th>model</th>\n",
       "      <th></th>\n",
       "    </tr>\n",
       "  </thead>\n",
       "  <tbody>\n",
       "    <tr>\n",
       "      <th>codellama</th>\n",
       "      <td>100.0</td>\n",
       "    </tr>\n",
       "    <tr>\n",
       "      <th>deepseek</th>\n",
       "      <td>75.0</td>\n",
       "    </tr>\n",
       "    <tr>\n",
       "      <th>gpt-3.5</th>\n",
       "      <td>91.7</td>\n",
       "    </tr>\n",
       "    <tr>\n",
       "      <th>gpt-4</th>\n",
       "      <td>100.0</td>\n",
       "    </tr>\n",
       "    <tr>\n",
       "      <th>llama2</th>\n",
       "      <td>75.0</td>\n",
       "    </tr>\n",
       "    <tr>\n",
       "      <th>llama3</th>\n",
       "      <td>100.0</td>\n",
       "    </tr>\n",
       "    <tr>\n",
       "      <th>platypus</th>\n",
       "      <td>25.0</td>\n",
       "    </tr>\n",
       "    <tr>\n",
       "      <th>qwen</th>\n",
       "      <td>50.0</td>\n",
       "    </tr>\n",
       "  </tbody>\n",
       "</table>\n",
       "</div>"
      ],
      "text/plain": [
       "           Da un código funcional en python?\n",
       "model                                       \n",
       "codellama                              100.0\n",
       "deepseek                                75.0\n",
       "gpt-3.5                                 91.7\n",
       "gpt-4                                  100.0\n",
       "llama2                                  75.0\n",
       "llama3                                 100.0\n",
       "platypus                                25.0\n",
       "qwen                                    50.0"
      ]
     },
     "execution_count": 7,
     "metadata": {},
     "output_type": "execute_result"
    }
   ],
   "source": [
    "df_NL_model_resumen_1"
   ]
  },
  {
   "cell_type": "code",
   "execution_count": 8,
   "id": "69738e55",
   "metadata": {},
   "outputs": [
    {
     "data": {
      "text/html": [
       "<div>\n",
       "<style scoped>\n",
       "    .dataframe tbody tr th:only-of-type {\n",
       "        vertical-align: middle;\n",
       "    }\n",
       "\n",
       "    .dataframe tbody tr th {\n",
       "        vertical-align: top;\n",
       "    }\n",
       "\n",
       "    .dataframe thead th {\n",
       "        text-align: right;\n",
       "    }\n",
       "</style>\n",
       "<table border=\"1\" class=\"dataframe\">\n",
       "  <thead>\n",
       "    <tr style=\"text-align: right;\">\n",
       "      <th></th>\n",
       "      <th>Hace los pasos que se le pide en la descripción?</th>\n",
       "    </tr>\n",
       "    <tr>\n",
       "      <th>model</th>\n",
       "      <th></th>\n",
       "    </tr>\n",
       "  </thead>\n",
       "  <tbody>\n",
       "    <tr>\n",
       "      <th>codellama</th>\n",
       "      <td>100.0</td>\n",
       "    </tr>\n",
       "    <tr>\n",
       "      <th>deepseek</th>\n",
       "      <td>75.0</td>\n",
       "    </tr>\n",
       "    <tr>\n",
       "      <th>gpt-3.5</th>\n",
       "      <td>91.7</td>\n",
       "    </tr>\n",
       "    <tr>\n",
       "      <th>gpt-4</th>\n",
       "      <td>100.0</td>\n",
       "    </tr>\n",
       "    <tr>\n",
       "      <th>llama2</th>\n",
       "      <td>50.0</td>\n",
       "    </tr>\n",
       "    <tr>\n",
       "      <th>llama3</th>\n",
       "      <td>100.0</td>\n",
       "    </tr>\n",
       "    <tr>\n",
       "      <th>platypus</th>\n",
       "      <td>25.0</td>\n",
       "    </tr>\n",
       "    <tr>\n",
       "      <th>qwen</th>\n",
       "      <td>50.0</td>\n",
       "    </tr>\n",
       "  </tbody>\n",
       "</table>\n",
       "</div>"
      ],
      "text/plain": [
       "           Hace los pasos que se le pide en la descripción?\n",
       "model                                                      \n",
       "codellama                                             100.0\n",
       "deepseek                                               75.0\n",
       "gpt-3.5                                                91.7\n",
       "gpt-4                                                 100.0\n",
       "llama2                                                 50.0\n",
       "llama3                                                100.0\n",
       "platypus                                               25.0\n",
       "qwen                                                   50.0"
      ]
     },
     "execution_count": 8,
     "metadata": {},
     "output_type": "execute_result"
    }
   ],
   "source": [
    "df_NL_model_resumen_2"
   ]
  },
  {
   "cell_type": "code",
   "execution_count": 9,
   "id": "c7dcaef0",
   "metadata": {},
   "outputs": [
    {
     "data": {
      "text/html": [
       "<div>\n",
       "<style scoped>\n",
       "    .dataframe tbody tr th:only-of-type {\n",
       "        vertical-align: middle;\n",
       "    }\n",
       "\n",
       "    .dataframe tbody tr th {\n",
       "        vertical-align: top;\n",
       "    }\n",
       "\n",
       "    .dataframe thead th {\n",
       "        text-align: right;\n",
       "    }\n",
       "</style>\n",
       "<table border=\"1\" class=\"dataframe\">\n",
       "  <thead>\n",
       "    <tr style=\"text-align: right;\">\n",
       "      <th></th>\n",
       "      <th>Da un código funcional en python?</th>\n",
       "    </tr>\n",
       "    <tr>\n",
       "      <th>model</th>\n",
       "      <th></th>\n",
       "    </tr>\n",
       "  </thead>\n",
       "  <tbody>\n",
       "    <tr>\n",
       "      <th>codellama</th>\n",
       "      <td>87.5</td>\n",
       "    </tr>\n",
       "    <tr>\n",
       "      <th>deepseek</th>\n",
       "      <td>75.0</td>\n",
       "    </tr>\n",
       "    <tr>\n",
       "      <th>gpt-3.5</th>\n",
       "      <td>91.7</td>\n",
       "    </tr>\n",
       "    <tr>\n",
       "      <th>gpt-4</th>\n",
       "      <td>100.0</td>\n",
       "    </tr>\n",
       "    <tr>\n",
       "      <th>llama2</th>\n",
       "      <td>25.0</td>\n",
       "    </tr>\n",
       "    <tr>\n",
       "      <th>llama3</th>\n",
       "      <td>100.0</td>\n",
       "    </tr>\n",
       "    <tr>\n",
       "      <th>platypus</th>\n",
       "      <td>62.5</td>\n",
       "    </tr>\n",
       "    <tr>\n",
       "      <th>qwen</th>\n",
       "      <td>87.5</td>\n",
       "    </tr>\n",
       "  </tbody>\n",
       "</table>\n",
       "</div>"
      ],
      "text/plain": [
       "           Da un código funcional en python?\n",
       "model                                       \n",
       "codellama                               87.5\n",
       "deepseek                                75.0\n",
       "gpt-3.5                                 91.7\n",
       "gpt-4                                  100.0\n",
       "llama2                                  25.0\n",
       "llama3                                 100.0\n",
       "platypus                                62.5\n",
       "qwen                                    87.5"
      ]
     },
     "execution_count": 9,
     "metadata": {},
     "output_type": "execute_result"
    }
   ],
   "source": [
    "df_no_NL_model_resumen_1"
   ]
  },
  {
   "cell_type": "code",
   "execution_count": 10,
   "id": "dc4103c3",
   "metadata": {},
   "outputs": [
    {
     "data": {
      "text/html": [
       "<div>\n",
       "<style scoped>\n",
       "    .dataframe tbody tr th:only-of-type {\n",
       "        vertical-align: middle;\n",
       "    }\n",
       "\n",
       "    .dataframe tbody tr th {\n",
       "        vertical-align: top;\n",
       "    }\n",
       "\n",
       "    .dataframe thead th {\n",
       "        text-align: right;\n",
       "    }\n",
       "</style>\n",
       "<table border=\"1\" class=\"dataframe\">\n",
       "  <thead>\n",
       "    <tr style=\"text-align: right;\">\n",
       "      <th></th>\n",
       "      <th>Hace los pasos que se le pide en la descripción?</th>\n",
       "    </tr>\n",
       "    <tr>\n",
       "      <th>model</th>\n",
       "      <th></th>\n",
       "    </tr>\n",
       "  </thead>\n",
       "  <tbody>\n",
       "    <tr>\n",
       "      <th>codellama</th>\n",
       "      <td>37.5</td>\n",
       "    </tr>\n",
       "    <tr>\n",
       "      <th>deepseek</th>\n",
       "      <td>37.5</td>\n",
       "    </tr>\n",
       "    <tr>\n",
       "      <th>gpt-3.5</th>\n",
       "      <td>87.5</td>\n",
       "    </tr>\n",
       "    <tr>\n",
       "      <th>gpt-4</th>\n",
       "      <td>75.0</td>\n",
       "    </tr>\n",
       "    <tr>\n",
       "      <th>llama2</th>\n",
       "      <td>12.5</td>\n",
       "    </tr>\n",
       "    <tr>\n",
       "      <th>llama3</th>\n",
       "      <td>75.0</td>\n",
       "    </tr>\n",
       "    <tr>\n",
       "      <th>platypus</th>\n",
       "      <td>50.0</td>\n",
       "    </tr>\n",
       "    <tr>\n",
       "      <th>qwen</th>\n",
       "      <td>75.0</td>\n",
       "    </tr>\n",
       "  </tbody>\n",
       "</table>\n",
       "</div>"
      ],
      "text/plain": [
       "           Hace los pasos que se le pide en la descripción?\n",
       "model                                                      \n",
       "codellama                                              37.5\n",
       "deepseek                                               37.5\n",
       "gpt-3.5                                                87.5\n",
       "gpt-4                                                  75.0\n",
       "llama2                                                 12.5\n",
       "llama3                                                 75.0\n",
       "platypus                                               50.0\n",
       "qwen                                                   75.0"
      ]
     },
     "execution_count": 10,
     "metadata": {},
     "output_type": "execute_result"
    }
   ],
   "source": [
    "df_no_NL_model_resumen_2"
   ]
  },
  {
   "cell_type": "code",
   "execution_count": 11,
   "id": "e9d80ee8",
   "metadata": {},
   "outputs": [
    {
     "name": "stdout",
     "output_type": "stream",
     "text": [
      "        model                  problem  Count  Total  percentage\n",
      "0   codellama            Binary Search      3      3       100.0\n",
      "1   codellama             Eratosthenes      3      3       100.0\n",
      "2   codellama   Eratosthenes Recursive      3      3       100.0\n",
      "3   codellama                   Euclid      3      3       100.0\n",
      "4   codellama         Euclid Recursive      3      3       100.0\n",
      "5   codellama                 Knapsack      3      3       100.0\n",
      "6   codellama       Knapsack Recursive      3      3       100.0\n",
      "7    deepseek            Binary Search      3      3       100.0\n",
      "8    deepseek  Binary Search Recursive      3      3       100.0\n",
      "9    deepseek             Eratosthenes      3      3       100.0\n",
      "10   deepseek   Eratosthenes Recursive      3      3       100.0\n",
      "11   deepseek                   Euclid      3      3       100.0\n",
      "12   deepseek         Euclid Recursive      3      3       100.0\n",
      "13    gpt-3.5            Binary Search      3      3       100.0\n",
      "14    gpt-3.5  Binary Search Recursive      3      3       100.0\n",
      "15    gpt-3.5             Eratosthenes      3      3       100.0\n",
      "16    gpt-3.5   Eratosthenes Recursive      1      3        33.3\n",
      "17    gpt-3.5                   Euclid      3      3       100.0\n",
      "18    gpt-3.5         Euclid Recursive      3      3       100.0\n",
      "19    gpt-3.5                 Knapsack      3      3       100.0\n",
      "20    gpt-3.5       Knapsack Recursive      3      3       100.0\n",
      "21      gpt-4            Binary Search      3      3       100.0\n",
      "22      gpt-4  Binary Search Recursive      3      3       100.0\n",
      "23      gpt-4             Eratosthenes      3      3       100.0\n",
      "24      gpt-4   Eratosthenes Recursive      3      3       100.0\n",
      "25      gpt-4                   Euclid      3      3       100.0\n",
      "26      gpt-4         Euclid Recursive      3      3       100.0\n",
      "27      gpt-4                 Knapsack      3      3       100.0\n",
      "28      gpt-4       Knapsack Recursive      3      3       100.0\n",
      "29     llama2            Binary Search      3      3       100.0\n",
      "30     llama2         Euclid Recursive      3      3       100.0\n",
      "31     llama3            Binary Search      3      3       100.0\n",
      "32     llama3  Binary Search Recursive      3      3       100.0\n",
      "33     llama3             Eratosthenes      3      3       100.0\n",
      "34     llama3   Eratosthenes Recursive      3      3       100.0\n",
      "35     llama3                   Euclid      3      3       100.0\n",
      "36     llama3         Euclid Recursive      3      3       100.0\n",
      "37     llama3                 Knapsack      3      3       100.0\n",
      "38     llama3       Knapsack Recursive      3      3       100.0\n",
      "39   platypus            Binary Search      3      3       100.0\n",
      "40   platypus  Binary Search Recursive      3      3       100.0\n",
      "41   platypus             Eratosthenes      3      3       100.0\n",
      "42   platypus   Eratosthenes Recursive      3      3       100.0\n",
      "43   platypus                 Knapsack      3      3       100.0\n",
      "44       qwen            Binary Search      3      3       100.0\n",
      "45       qwen  Binary Search Recursive      3      3       100.0\n",
      "46       qwen             Eratosthenes      3      3       100.0\n",
      "47       qwen   Eratosthenes Recursive      3      3       100.0\n",
      "48       qwen                   Euclid      3      3       100.0\n",
      "49       qwen         Euclid Recursive      3      3       100.0\n",
      "50       qwen                 Knapsack      3      3       100.0\n"
     ]
    }
   ],
   "source": [
    "#Strategy 1 % by model and problem that gives a functional code\n",
    "\n",
    "df_total_no_NL = filtered_no_NL_df.groupby(['model', 'problem']).size().rename('Total')\n",
    "df_no_NL_3 = filtered_no_NL_df[filtered_no_NL_df.iloc[:, 3] == True]\n",
    "grouped_df_no_NL_3 = df_no_NL_3.groupby(['model', 'problem']).size().reset_index(name='Count')\n",
    "df_new_no_NL_3 = pd.merge(grouped_df_no_NL_3, df_total_no_NL, on=['model', 'problem'])\n",
    "df_new_no_NL_3['percentage'] = (df_new_no_NL_3['Count'] / df_new_no_NL_3['Total'] * 100).round(1)\n",
    "\n",
    "print(df_new_no_NL_3)\n"
   ]
  },
  {
   "cell_type": "code",
   "execution_count": 12,
   "id": "e650cc94",
   "metadata": {},
   "outputs": [
    {
     "name": "stdout",
     "output_type": "stream",
     "text": [
      "Gráfico guardado como \"Estrategia 1 Problemas que generan un codigo funcional.html\"\n"
     ]
    },
    {
     "name": "stderr",
     "output_type": "stream",
     "text": [
      "C:\\Users\\34649\\anaconda3\\Lib\\site-packages\\altair\\utils\\core.py:395: FutureWarning: the convert_dtype parameter is deprecated and will be removed in a future version.  Do ``ser.astype(object).apply()`` instead if you want ``convert_dtype=False``.\n",
      "  col = df[col_name].apply(to_list_if_array, convert_dtype=False)\n"
     ]
    }
   ],
   "source": [
    "df = df_new_no_NL_3\n",
    "\n",
    "custom_order = ['llama3', 'gpt-4','gpt-3.5', 'codellama', 'deepseek', 'llama2', 'platypus', 'qwen']\n",
    "order_map = {model: idx for idx, model in enumerate(custom_order)}\n",
    "\n",
    "\n",
    "color_scale = alt.Scale(domain=[1, 2, 3],\n",
    "                        range=['orange', 'yellow', 'green'])\n",
    "\n",
    "df['model_order'] = df['model'].map(order_map)\n",
    "\n",
    "chart = alt.Chart(df).mark_rect(stroke='gray', strokeWidth=1).encode(\n",
    "    x=alt.X('problem:N', title='Problem', sort='ascending', axis=alt.Axis(labelAngle=-25, labelFontSize=16, titleFontSize=16)),\n",
    "    y=alt.Y('model:N', title='Model', sort=alt.EncodingSortField(field='model_order', order='ascending'),\n",
    "            axis=alt.Axis(grid=False, labelFontSize=16, titleFontSize=18)), \n",
    "    fill=alt.Fill('Count:Q', scale=color_scale),\n",
    "    tooltip=['model', 'problem', 'Count']\n",
    ").properties(\n",
    "    width=600,\n",
    "    height=400,\n",
    "    title=alt.TitleParams('Model vs. Problem', fontSize=20)\n",
    ").configure_legend(\n",
    "    disable=True\n",
    ")\n",
    "\n",
    "output_html = 'Estrategia 1 Problemas que generan un codigo funcional.html'\n",
    "chart.save(output_html)\n",
    "\n",
    "print(f'Gráfico guardado como \"{output_html}\"')"
   ]
  },
  {
   "cell_type": "code",
   "execution_count": 13,
   "id": "fe11d6d8",
   "metadata": {},
   "outputs": [
    {
     "name": "stdout",
     "output_type": "stream",
     "text": [
      "        model   root_problem  Count  Total  percentage\n",
      "0   codellama  Binary Search      3      3       100.0\n",
      "1   codellama   Eratosthenes      3      3       100.0\n",
      "2   codellama         Euclid      3      3       100.0\n",
      "3   codellama       Knapsack      3      3       100.0\n",
      "4    deepseek   Eratosthenes      3      3       100.0\n",
      "5    deepseek         Euclid      3      3       100.0\n",
      "6    deepseek       Knapsack      3      3       100.0\n",
      "7     gpt-3.5  Binary Search      2      3        66.7\n",
      "8     gpt-3.5   Eratosthenes      3      3       100.0\n",
      "9     gpt-3.5         Euclid      3      3       100.0\n",
      "10    gpt-3.5       Knapsack      3      3       100.0\n",
      "11      gpt-4  Binary Search      3      3       100.0\n",
      "12      gpt-4   Eratosthenes      3      3       100.0\n",
      "13      gpt-4         Euclid      3      3       100.0\n",
      "14      gpt-4       Knapsack      3      3       100.0\n",
      "15     llama2   Eratosthenes      3      3       100.0\n",
      "16     llama2         Euclid      3      3       100.0\n",
      "17     llama2       Knapsack      3      3       100.0\n",
      "18     llama3  Binary Search      3      3       100.0\n",
      "19     llama3   Eratosthenes      3      3       100.0\n",
      "20     llama3         Euclid      3      3       100.0\n",
      "21     llama3       Knapsack      3      3       100.0\n",
      "22   platypus       Knapsack      3      3       100.0\n",
      "23       qwen   Eratosthenes      3      3       100.0\n",
      "24       qwen         Euclid      3      3       100.0\n"
     ]
    }
   ],
   "source": [
    "#Strategy 2 % by model and problem gives a funcional code\n",
    "\n",
    "df_total_NL = filtered_NL_df.groupby(['model', 'root_problem']).size().rename('Total')\n",
    "df_NL_3 = filtered_NL_df[filtered_NL_df.iloc[:, 3] == True]\n",
    "grouped_df_NL_3 = df_NL_3.groupby(['model', 'root_problem']).size().reset_index(name='Count')\n",
    "df_new_NL_3 = pd.merge(grouped_df_NL_3, df_total_NL, on=['model', 'root_problem'])\n",
    "df_new_NL_3['percentage'] = (df_new_NL_3['Count'] / df_new_NL_3['Total'] * 100).round(1)\n",
    "\n",
    "print(df_new_NL_3)"
   ]
  },
  {
   "cell_type": "code",
   "execution_count": 14,
   "id": "31ef8d84",
   "metadata": {},
   "outputs": [
    {
     "name": "stdout",
     "output_type": "stream",
     "text": [
      "Gráfico guardado como \"Estrategia 2 Problemas que generan un codigo funcional.html\"\n"
     ]
    },
    {
     "name": "stderr",
     "output_type": "stream",
     "text": [
      "C:\\Users\\34649\\anaconda3\\Lib\\site-packages\\altair\\utils\\core.py:395: FutureWarning: the convert_dtype parameter is deprecated and will be removed in a future version.  Do ``ser.astype(object).apply()`` instead if you want ``convert_dtype=False``.\n",
      "  col = df[col_name].apply(to_list_if_array, convert_dtype=False)\n"
     ]
    }
   ],
   "source": [
    "df = df_new_NL_3\n",
    "\n",
    "custom_order = ['llama3', 'gpt-4','gpt-3.5', 'codellama', 'deepseek', 'llama2', 'platypus', 'qwen']\n",
    "order_map = {model: idx for idx, model in enumerate(custom_order)}\n",
    "\n",
    "color_scale = alt.Scale(domain=[1, 2, 3],\n",
    "                        range=['orange', 'yellow', 'green'])\n",
    "df['model_order'] = df['model'].map(order_map)\n",
    "\n",
    "chart = alt.Chart(df).mark_rect(stroke='gray', strokeWidth=1).encode(\n",
    "    x=alt.X('root_problem:N', title='Problem', sort='ascending', axis=alt.Axis(labelAngle=-25, labelFontSize=16, titleFontSize=16)),\n",
    "    y=alt.Y('model:N', title='Model', sort=alt.EncodingSortField(field='model_order', order='ascending'),\n",
    "            axis=alt.Axis(grid=False, labelFontSize=16, titleFontSize=18)), \n",
    "    fill=alt.Fill('Count:Q', scale=color_scale),\n",
    "    tooltip=['model', 'root_problem', 'Count']\n",
    ").properties(\n",
    "    width=600,\n",
    "    height=400,\n",
    "    title=alt.TitleParams('Model vs. Problem', fontSize=20)\n",
    ").configure_legend(\n",
    "    disable=True\n",
    ")\n",
    "\n",
    "\n",
    "\n",
    "output_html = 'Estrategia 2 Problemas que generan un codigo funcional.html'\n",
    "chart.save(output_html)\n",
    "\n",
    "\n",
    "print(f'Gráfico guardado como \"{output_html}\"')"
   ]
  },
  {
   "cell_type": "code",
   "execution_count": 15,
   "id": "28c2c8bb",
   "metadata": {},
   "outputs": [
    {
     "name": "stdout",
     "output_type": "stream",
     "text": [
      "        model                  problem  Count  Total  percentage\n",
      "0   codellama            Binary Search      3      3       100.0\n",
      "1   codellama             Eratosthenes      3      3       100.0\n",
      "2   codellama                 Knapsack      3      3       100.0\n",
      "3    deepseek            Binary Search      3      3       100.0\n",
      "4    deepseek  Binary Search Recursive      3      3       100.0\n",
      "5    deepseek             Eratosthenes      3      3       100.0\n",
      "6     gpt-3.5            Binary Search      3      3       100.0\n",
      "7     gpt-3.5  Binary Search Recursive      3      3       100.0\n",
      "8     gpt-3.5             Eratosthenes      3      3       100.0\n",
      "9     gpt-3.5   Eratosthenes Recursive      1      3        33.3\n",
      "10    gpt-3.5                   Euclid      2      3        66.7\n",
      "11    gpt-3.5         Euclid Recursive      3      3       100.0\n",
      "12    gpt-3.5                 Knapsack      3      3       100.0\n",
      "13    gpt-3.5       Knapsack Recursive      3      3       100.0\n",
      "14      gpt-4            Binary Search      3      3       100.0\n",
      "15      gpt-4  Binary Search Recursive      3      3       100.0\n",
      "16      gpt-4             Eratosthenes      3      3       100.0\n",
      "17      gpt-4   Eratosthenes Recursive      2      3        66.7\n",
      "18      gpt-4                   Euclid      1      3        33.3\n",
      "19      gpt-4                 Knapsack      3      3       100.0\n",
      "20      gpt-4       Knapsack Recursive      3      3       100.0\n",
      "21     llama2            Binary Search      3      3       100.0\n",
      "22     llama3            Binary Search      3      3       100.0\n",
      "23     llama3  Binary Search Recursive      3      3       100.0\n",
      "24     llama3             Eratosthenes      3      3       100.0\n",
      "25     llama3                   Euclid      3      3       100.0\n",
      "26     llama3                 Knapsack      3      3       100.0\n",
      "27     llama3       Knapsack Recursive      3      3       100.0\n",
      "28   platypus            Binary Search      3      3       100.0\n",
      "29   platypus  Binary Search Recursive      3      3       100.0\n",
      "30   platypus             Eratosthenes      3      3       100.0\n",
      "31   platypus                 Knapsack      3      3       100.0\n",
      "32       qwen            Binary Search      3      3       100.0\n",
      "33       qwen  Binary Search Recursive      3      3       100.0\n",
      "34       qwen             Eratosthenes      3      3       100.0\n",
      "35       qwen   Eratosthenes Recursive      3      3       100.0\n",
      "36       qwen         Euclid Recursive      3      3       100.0\n",
      "37       qwen                 Knapsack      3      3       100.0\n"
     ]
    }
   ],
   "source": [
    "#Strategy 1 % by model and problem follow the steps\n",
    "\n",
    "df_total_no_NL = filtered_no_NL_df.groupby(['model', 'problem']).size().rename('Total')\n",
    "df_no_NL_4 = filtered_no_NL_df[filtered_no_NL_df.iloc[:, 7] == True]\n",
    "grouped_df_no_NL_4 = df_no_NL_4.groupby(['model', 'problem']).size().reset_index(name='Count')\n",
    "df_new_no_NL_4 = pd.merge(grouped_df_no_NL_4, df_total_no_NL, on=['model', 'problem'])\n",
    "df_new_no_NL_4['percentage'] = (df_new_no_NL_4['Count'] / df_new_no_NL_4['Total'] * 100).round(1)\n",
    "\n",
    "print(df_new_no_NL_4)\n"
   ]
  },
  {
   "cell_type": "code",
   "execution_count": 16,
   "id": "77201d89",
   "metadata": {},
   "outputs": [
    {
     "name": "stdout",
     "output_type": "stream",
     "text": [
      "Gráfico guardado como \"Estrategia 1 Problemas que siguen los pasos.html\"\n"
     ]
    },
    {
     "name": "stderr",
     "output_type": "stream",
     "text": [
      "C:\\Users\\34649\\anaconda3\\Lib\\site-packages\\altair\\utils\\core.py:395: FutureWarning: the convert_dtype parameter is deprecated and will be removed in a future version.  Do ``ser.astype(object).apply()`` instead if you want ``convert_dtype=False``.\n",
      "  col = df[col_name].apply(to_list_if_array, convert_dtype=False)\n"
     ]
    }
   ],
   "source": [
    "df = df_new_no_NL_4\n",
    "\n",
    "custom_order = ['llama3', 'gpt-4','gpt-3.5', 'codellama', 'deepseek', 'llama2', 'platypus', 'qwen']\n",
    "\n",
    "order_map = {model: idx for idx, model in enumerate(custom_order)}\n",
    "\n",
    "color_scale = alt.Scale(domain=[1, 2, 3],\n",
    "                        range=['orange', 'yellow', 'green'])\n",
    "df['model_order'] = df['model'].map(order_map)\n",
    "\n",
    "chart = alt.Chart(df).mark_rect(stroke='gray', strokeWidth=1).encode(\n",
    "    x=alt.X('problem:N', title='Problem', sort='ascending', axis=alt.Axis(labelAngle=-25, labelFontSize=16, titleFontSize=16)),\n",
    "    y=alt.Y('model:N', title='Model', sort=alt.EncodingSortField(field='model_order', order='ascending'),\n",
    "            axis=alt.Axis(grid=False, labelFontSize=16, titleFontSize=18)), \n",
    "    fill=alt.Fill('Count:Q', scale=color_scale),\n",
    "    tooltip=['model', 'problem', 'Count']\n",
    ").properties(\n",
    "    width=600,\n",
    "    height=400,\n",
    "    title=alt.TitleParams('Model vs. Problem', fontSize=20)\n",
    ").configure_legend(\n",
    "    disable=True\n",
    ")\n",
    "\n",
    "\n",
    "output_html = 'Estrategia 1 Problemas que siguen los pasos.html'\n",
    "chart.save(output_html)\n",
    "\n",
    "print(f'Gráfico guardado como \"{output_html}\"')"
   ]
  },
  {
   "cell_type": "code",
   "execution_count": 17,
   "id": "82f593b7",
   "metadata": {},
   "outputs": [
    {
     "name": "stdout",
     "output_type": "stream",
     "text": [
      "        model   root_problem  Count  Total  percentage\n",
      "0   codellama  Binary Search      3      3       100.0\n",
      "1   codellama   Eratosthenes      3      3       100.0\n",
      "2   codellama         Euclid      3      3       100.0\n",
      "3   codellama       Knapsack      3      3       100.0\n",
      "4    deepseek   Eratosthenes      3      3       100.0\n",
      "5    deepseek         Euclid      3      3       100.0\n",
      "6    deepseek       Knapsack      3      3       100.0\n",
      "7     gpt-3.5  Binary Search      2      3        66.7\n",
      "8     gpt-3.5   Eratosthenes      3      3       100.0\n",
      "9     gpt-3.5         Euclid      3      3       100.0\n",
      "10    gpt-3.5       Knapsack      3      3       100.0\n",
      "11      gpt-4  Binary Search      3      3       100.0\n",
      "12      gpt-4   Eratosthenes      3      3       100.0\n",
      "13      gpt-4         Euclid      3      3       100.0\n",
      "14      gpt-4       Knapsack      3      3       100.0\n",
      "15     llama2   Eratosthenes      3      3       100.0\n",
      "16     llama2       Knapsack      3      3       100.0\n",
      "17     llama3  Binary Search      3      3       100.0\n",
      "18     llama3   Eratosthenes      3      3       100.0\n",
      "19     llama3         Euclid      3      3       100.0\n",
      "20     llama3       Knapsack      3      3       100.0\n",
      "21   platypus       Knapsack      3      3       100.0\n",
      "22       qwen   Eratosthenes      3      3       100.0\n",
      "23       qwen         Euclid      3      3       100.0\n"
     ]
    }
   ],
   "source": [
    "#Strategy 2 % by model and problem following the steps\n",
    "df_total_NL = filtered_NL_df.groupby(['model', 'root_problem']).size().rename('Total')\n",
    "df_NL_4 = filtered_NL_df[filtered_NL_df.iloc[:, 7] == True]\n",
    "grouped_df_NL_4 = df_NL_4.groupby(['model', 'root_problem']).size().reset_index(name='Count')\n",
    "df_new_NL_4 = pd.merge(grouped_df_NL_4, df_total_NL, on=['model', 'root_problem'])\n",
    "df_new_NL_4['percentage'] = (df_new_NL_4['Count'] / df_new_NL_4['Total'] * 100).round(1)\n",
    "\n",
    "print(df_new_NL_4)\n"
   ]
  },
  {
   "cell_type": "code",
   "execution_count": 18,
   "id": "c83f3cd0",
   "metadata": {},
   "outputs": [
    {
     "name": "stdout",
     "output_type": "stream",
     "text": [
      "Gráfico guardado como \"Estrategia 2 Problemas que siguen los pasos.html\"\n"
     ]
    },
    {
     "name": "stderr",
     "output_type": "stream",
     "text": [
      "C:\\Users\\34649\\anaconda3\\Lib\\site-packages\\altair\\utils\\core.py:395: FutureWarning: the convert_dtype parameter is deprecated and will be removed in a future version.  Do ``ser.astype(object).apply()`` instead if you want ``convert_dtype=False``.\n",
      "  col = df[col_name].apply(to_list_if_array, convert_dtype=False)\n"
     ]
    }
   ],
   "source": [
    "df = df_new_NL_4\n",
    "\n",
    "custom_order = ['llama3', 'gpt-4','gpt-3.5', 'codellama', 'deepseek', 'llama2', 'platypus', 'qwen']\n",
    "order_map = {model: idx for idx, model in enumerate(custom_order)}\n",
    "\n",
    "color_scale = alt.Scale(domain=[1, 2, 3],\n",
    "                        range=['orange', 'yellow', 'green'])\n",
    "df['model_order'] = df['model'].map(order_map)\n",
    "\n",
    "chart = alt.Chart(df).mark_rect(stroke='gray', strokeWidth=1).encode(\n",
    "    x=alt.X('root_problem:N', title='Problem', sort='ascending', axis=alt.Axis(labelAngle=-25, labelFontSize=16, titleFontSize=16)),\n",
    "    y=alt.Y('model:N', title='Model', sort=alt.EncodingSortField(field='model_order', order='ascending'),\n",
    "            axis=alt.Axis(grid=False, labelFontSize=16, titleFontSize=18)), \n",
    "    fill=alt.Fill('Count:Q', scale=color_scale),\n",
    "    tooltip=['model', 'root_problem', 'Count']\n",
    ").properties(\n",
    "    width=600,\n",
    "    height=400,\n",
    "    title=alt.TitleParams('Model vs. Problem', fontSize=20)\n",
    ").configure_legend(\n",
    "    disable=True\n",
    ")\n",
    "\n",
    "\n",
    "output_html = 'Estrategia 2 Problemas que siguen los pasos.html'\n",
    "chart.save(output_html)\n",
    "\n",
    "print(f'Gráfico guardado como \"{output_html}\"')"
   ]
  },
  {
   "cell_type": "code",
   "execution_count": 19,
   "id": "c9034545",
   "metadata": {},
   "outputs": [
    {
     "name": "stdout",
     "output_type": "stream",
     "text": [
      "      model   root_problem  Count  Total  percentage\n",
      "0  deepseek  Binary Search      3      3       100.0\n"
     ]
    }
   ],
   "source": [
    "#We want to analyse when it is not directly requested that the code is recursive what percentage of the answers give a recursive code.filtered_strategy_1_no_rec = filtered_no_NL_df[~filtered_no_NL_df['problem'].str.contains('Recursive')]\n",
    "filtered_strategy_1_no_rec = filtered_no_NL_df[~filtered_no_NL_df['problem'].str.contains('Recursive')]\n",
    "filtered_strategy_1_no_rec_total = filtered_strategy_1_no_rec.groupby(['model', 'root_problem']).size().reset_index(name='Total')\n",
    "df__strategy_1_no_rec_5 = filtered_strategy_1_no_rec[filtered_strategy_1_no_rec.iloc[:, 6] == True] #codigos recursivos\n",
    "\n",
    "grouped_strategy_1_no_rec_5 = df__strategy_1_no_rec_5.groupby(['model', 'root_problem']).size().reset_index(name='Count')\n",
    "\n",
    "df_new_5 = pd.merge(grouped_strategy_1_no_rec_5, filtered_strategy_1_no_rec_total, on=['model', 'root_problem'])\n",
    "df_new_5['percentage'] = (df_new_5['Count'] / df_new_5['Total'] * 100).round(1)\n",
    "\n",
    "\n",
    "print(df_new_5)\n",
    "\n",
    "\n"
   ]
  },
  {
   "cell_type": "code",
   "execution_count": 20,
   "id": "541e4adc",
   "metadata": {},
   "outputs": [
    {
     "name": "stdout",
     "output_type": "stream",
     "text": [
      "        model                  problem  Count  Total  percentage\n",
      "0   codellama  Binary Search Recursive      3      3       100.0\n",
      "1   codellama   Eratosthenes Recursive      3      3       100.0\n",
      "2   codellama         Euclid Recursive      3      3       100.0\n",
      "3   codellama       Knapsack Recursive      3      3       100.0\n",
      "4    deepseek  Binary Search Recursive      3      3       100.0\n",
      "5    deepseek         Euclid Recursive      3      3       100.0\n",
      "6    deepseek       Knapsack Recursive      3      3       100.0\n",
      "7     gpt-3.5  Binary Search Recursive      3      3       100.0\n",
      "8     gpt-3.5   Eratosthenes Recursive      1      3        33.3\n",
      "9     gpt-3.5         Euclid Recursive      3      3       100.0\n",
      "10    gpt-3.5       Knapsack Recursive      3      3       100.0\n",
      "11      gpt-4  Binary Search Recursive      3      3       100.0\n",
      "12      gpt-4   Eratosthenes Recursive      2      3        66.7\n",
      "13      gpt-4         Euclid Recursive      3      3       100.0\n",
      "14      gpt-4       Knapsack Recursive      3      3       100.0\n",
      "15     llama2  Binary Search Recursive      3      3       100.0\n",
      "16     llama3  Binary Search Recursive      3      3       100.0\n",
      "17     llama3       Knapsack Recursive      3      3       100.0\n",
      "18   platypus  Binary Search Recursive      3      3       100.0\n",
      "19   platypus       Knapsack Recursive      3      3       100.0\n",
      "20       qwen  Binary Search Recursive      3      3       100.0\n",
      "21       qwen   Eratosthenes Recursive      3      3       100.0\n",
      "22       qwen         Euclid Recursive      3      3       100.0\n"
     ]
    }
   ],
   "source": [
    "filtered_strategy_1_rec = filtered_no_NL_df[filtered_no_NL_df['problem'].str.contains('Recursive')]\n",
    "filtered_strategy_1_rec_total = filtered_strategy_1_rec.groupby(['model', 'problem']).size().reset_index(name='Total')\n",
    "df__strategy_1_rec_5 = filtered_strategy_1_rec[filtered_strategy_1_rec.iloc[:, 6] == True] #codigos recursivos\n",
    "\n",
    "grouped_strategy_1_rec_5 = df__strategy_1_rec_5.groupby(['model', 'problem']).size().reset_index(name='Count')\n",
    "\n",
    "df_new_5 = pd.merge(grouped_strategy_1_rec_5, filtered_strategy_1_rec_total, on=['model', 'problem'])\n",
    "df_new_5['percentage'] = (df_new_5['Count'] / df_new_5['Total'] * 100).round(1)\n",
    "\n",
    "print(df_new_5)\n"
   ]
  },
  {
   "cell_type": "code",
   "execution_count": 21,
   "id": "4ce70c2f",
   "metadata": {},
   "outputs": [
    {
     "name": "stdout",
     "output_type": "stream",
     "text": [
      "Gráfico guardado como \"Estrategia 1 Problemas que generan un código recursivo.html\"\n"
     ]
    },
    {
     "name": "stderr",
     "output_type": "stream",
     "text": [
      "C:\\Users\\34649\\anaconda3\\Lib\\site-packages\\altair\\utils\\core.py:395: FutureWarning: the convert_dtype parameter is deprecated and will be removed in a future version.  Do ``ser.astype(object).apply()`` instead if you want ``convert_dtype=False``.\n",
      "  col = df[col_name].apply(to_list_if_array, convert_dtype=False)\n"
     ]
    }
   ],
   "source": [
    "df = df_new_5\n",
    "custom_order = ['llama3', 'gpt-4','gpt-3.5', 'codellama', 'deepseek', 'llama2', 'platypus', 'qwen']\n",
    "order_map = {model: idx for idx, model in enumerate(custom_order)}\n",
    "\n",
    "color_scale = alt.Scale(domain=[1, 2, 3],\n",
    "                        range=['orange', 'yellow', 'green'])\n",
    "df['model_order'] = df['model'].map(order_map)\n",
    "\n",
    "chart = alt.Chart(df).mark_rect(stroke='gray', strokeWidth=1).encode(\n",
    "    x=alt.X('problem:N', title='Problem', sort='ascending', axis=alt.Axis(labelAngle=-25, labelFontSize=16, titleFontSize=16)),\n",
    "    y=alt.Y('model:N', title='Model', sort=alt.EncodingSortField(field='model_order', order='ascending'),\n",
    "            axis=alt.Axis(grid=False, labelFontSize=16, titleFontSize=18)), \n",
    "    fill=alt.Fill('Count:Q', scale=color_scale),\n",
    "    tooltip=['model', 'problem', 'Count']\n",
    ").properties(\n",
    "    width=600,\n",
    "    height=400,\n",
    "    title=alt.TitleParams('Model vs. Problem', fontSize=20)\n",
    ").configure_legend(\n",
    "    disable=True\n",
    ")\n",
    "\n",
    "\n",
    "output_html = 'Estrategia 1 Problemas que generan un código recursivo.html'\n",
    "chart.save(output_html)\n",
    "\n",
    "print(f'Gráfico guardado como \"{output_html}\"')"
   ]
  },
  {
   "cell_type": "code",
   "execution_count": 22,
   "id": "e6c908c2",
   "metadata": {},
   "outputs": [],
   "source": [
    "# Explain the code\n",
    "\n",
    "df_resumen_coments = dataframe_porcentajes (df_select.iloc[:,[0,4]],'model')\n",
    "\n",
    "# provide a correct reasoning\n",
    "\n",
    "df_resumen_raz = dataframe_porcentajes (df_select.iloc[:,[0,5]],'model')"
   ]
  },
  {
   "cell_type": "code",
   "execution_count": 23,
   "id": "99df0cdd",
   "metadata": {},
   "outputs": [
    {
     "data": {
      "text/html": [
       "<div>\n",
       "<style scoped>\n",
       "    .dataframe tbody tr th:only-of-type {\n",
       "        vertical-align: middle;\n",
       "    }\n",
       "\n",
       "    .dataframe tbody tr th {\n",
       "        vertical-align: top;\n",
       "    }\n",
       "\n",
       "    .dataframe thead th {\n",
       "        text-align: right;\n",
       "    }\n",
       "</style>\n",
       "<table border=\"1\" class=\"dataframe\">\n",
       "  <thead>\n",
       "    <tr style=\"text-align: right;\">\n",
       "      <th></th>\n",
       "      <th>Explica el código?</th>\n",
       "    </tr>\n",
       "    <tr>\n",
       "      <th>model</th>\n",
       "      <th></th>\n",
       "    </tr>\n",
       "  </thead>\n",
       "  <tbody>\n",
       "    <tr>\n",
       "      <th>codellama</th>\n",
       "      <td>83.3</td>\n",
       "    </tr>\n",
       "    <tr>\n",
       "      <th>deepseek</th>\n",
       "      <td>41.7</td>\n",
       "    </tr>\n",
       "    <tr>\n",
       "      <th>gpt-3.5</th>\n",
       "      <td>8.3</td>\n",
       "    </tr>\n",
       "    <tr>\n",
       "      <th>gpt-4</th>\n",
       "      <td>94.4</td>\n",
       "    </tr>\n",
       "    <tr>\n",
       "      <th>llama2</th>\n",
       "      <td>33.3</td>\n",
       "    </tr>\n",
       "    <tr>\n",
       "      <th>llama3</th>\n",
       "      <td>75.0</td>\n",
       "    </tr>\n",
       "    <tr>\n",
       "      <th>platypus</th>\n",
       "      <td>0.0</td>\n",
       "    </tr>\n",
       "    <tr>\n",
       "      <th>qwen</th>\n",
       "      <td>66.7</td>\n",
       "    </tr>\n",
       "  </tbody>\n",
       "</table>\n",
       "</div>"
      ],
      "text/plain": [
       "           Explica el código?\n",
       "model                        \n",
       "codellama                83.3\n",
       "deepseek                 41.7\n",
       "gpt-3.5                   8.3\n",
       "gpt-4                    94.4\n",
       "llama2                   33.3\n",
       "llama3                   75.0\n",
       "platypus                  0.0\n",
       "qwen                     66.7"
      ]
     },
     "execution_count": 23,
     "metadata": {},
     "output_type": "execute_result"
    }
   ],
   "source": [
    "df_resumen_coments"
   ]
  },
  {
   "cell_type": "code",
   "execution_count": 24,
   "id": "43207886",
   "metadata": {},
   "outputs": [
    {
     "data": {
      "text/html": [
       "<div>\n",
       "<style scoped>\n",
       "    .dataframe tbody tr th:only-of-type {\n",
       "        vertical-align: middle;\n",
       "    }\n",
       "\n",
       "    .dataframe tbody tr th {\n",
       "        vertical-align: top;\n",
       "    }\n",
       "\n",
       "    .dataframe thead th {\n",
       "        text-align: right;\n",
       "    }\n",
       "</style>\n",
       "<table border=\"1\" class=\"dataframe\">\n",
       "  <thead>\n",
       "    <tr style=\"text-align: right;\">\n",
       "      <th></th>\n",
       "      <th>Utiliza un razonamiento correcto?</th>\n",
       "    </tr>\n",
       "    <tr>\n",
       "      <th>model</th>\n",
       "      <th></th>\n",
       "    </tr>\n",
       "  </thead>\n",
       "  <tbody>\n",
       "    <tr>\n",
       "      <th>codellama</th>\n",
       "      <td>55.6</td>\n",
       "    </tr>\n",
       "    <tr>\n",
       "      <th>deepseek</th>\n",
       "      <td>41.7</td>\n",
       "    </tr>\n",
       "    <tr>\n",
       "      <th>gpt-3.5</th>\n",
       "      <td>0.0</td>\n",
       "    </tr>\n",
       "    <tr>\n",
       "      <th>gpt-4</th>\n",
       "      <td>72.2</td>\n",
       "    </tr>\n",
       "    <tr>\n",
       "      <th>llama2</th>\n",
       "      <td>8.3</td>\n",
       "    </tr>\n",
       "    <tr>\n",
       "      <th>llama3</th>\n",
       "      <td>66.7</td>\n",
       "    </tr>\n",
       "    <tr>\n",
       "      <th>platypus</th>\n",
       "      <td>0.0</td>\n",
       "    </tr>\n",
       "    <tr>\n",
       "      <th>qwen</th>\n",
       "      <td>50.0</td>\n",
       "    </tr>\n",
       "  </tbody>\n",
       "</table>\n",
       "</div>"
      ],
      "text/plain": [
       "           Utiliza un razonamiento correcto?\n",
       "model                                       \n",
       "codellama                               55.6\n",
       "deepseek                                41.7\n",
       "gpt-3.5                                  0.0\n",
       "gpt-4                                   72.2\n",
       "llama2                                   8.3\n",
       "llama3                                  66.7\n",
       "platypus                                 0.0\n",
       "qwen                                    50.0"
      ]
     },
     "execution_count": 24,
     "metadata": {},
     "output_type": "execute_result"
    }
   ],
   "source": [
    "df_resumen_raz"
   ]
  }
 ],
 "metadata": {
  "kernelspec": {
   "display_name": "Python 3 (ipykernel)",
   "language": "python",
   "name": "python3"
  },
  "language_info": {
   "codemirror_mode": {
    "name": "ipython",
    "version": 3
   },
   "file_extension": ".py",
   "mimetype": "text/x-python",
   "name": "python",
   "nbconvert_exporter": "python",
   "pygments_lexer": "ipython3",
   "version": "3.11.7"
  }
 },
 "nbformat": 4,
 "nbformat_minor": 5
}
